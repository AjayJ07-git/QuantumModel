{
 "cells": [
  {
   "cell_type": "markdown",
   "metadata": {},
   "source": [
    "![Quantum Computing](./images/qimage.jpeg)"
   ]
  },
  {
   "cell_type": "markdown",
   "metadata": {},
   "source": [
    "## Quantum AI Model"
   ]
  },
  {
   "cell_type": "markdown",
   "metadata": {},
   "source": [
    "### Introduction"
   ]
  },
  {
   "cell_type": "markdown",
   "metadata": {},
   "source": [
    "#### Quantum computing is evolving rapidly, though access to quantum hardware remains limited. To demonstrate quantum principles, researchers have developed quantum-inspired algorithms that run on classical computers. This approach allows for exploration and validation of quantum concepts, advancing the field without requiring actual quantum hardware, while showcasing the potential efficiency gains of quantum computing."
   ]
  },
  {
   "cell_type": "markdown",
   "metadata": {},
   "source": [
    "### Importing all the required Modules "
   ]
  },
  {
   "cell_type": "markdown",
   "metadata": {},
   "source": [
    "#### PennyLane is a cross-platform Python library for quantum computing, quantum machine learning, and quantum chemistry. Train a quantum computer the same way as a neural network."
   ]
  },
  {
   "cell_type": "code",
   "execution_count": 1,
   "metadata": {},
   "outputs": [],
   "source": [
    "import pennylane as qml\n",
    "import numpy as np #Handling arrays and performing mathematical computations using numerical operations.\n",
    "import matplotlib.pyplot as plt #Create visualizations and plots"
   ]
  },
  {
   "cell_type": "markdown",
   "metadata": {},
   "source": [
    "### Defining the Molecule"
   ]
  },
  {
   "cell_type": "code",
   "execution_count": 2,
   "metadata": {},
   "outputs": [],
   "source": [
    "moleculeSymbols = [\"H\", \"H\"] # Represents the atoms represent in the molecule\n",
    "# Represents the distance between the two hydrogen atoms in terms of their coordinates.\n",
    "moleculeCoordinates = np.array([0.0, 0.0, 0.0, 0.0, 0.0, 0.74]) # The bond length of H2 is 0.75Å "
   ]
  },
  {
   "cell_type": "markdown",
   "metadata": {},
   "source": [
    "### Generate the Hamiltonian for the molecule"
   ]
  },
  {
   "cell_type": "markdown",
   "metadata": {},
   "source": [
    "#### The Hamiltonian expression represents the total energy of a system, in this case, qubits simulating a molecule in the quantum realm. It plays a crucial role in solving the Schrödinger equation, which is fundamental to quantum mechanics. By solving this equation, we can predict how molecules evolve or change over time. This approach is essential for understanding and simulating molecular behavior at the quantum level, providing insights into various chemical and physical processes."
   ]
  },
  {
   "cell_type": "code",
   "execution_count": 3,
   "metadata": {},
   "outputs": [],
   "source": [
    "# Generates the Hamiltonian for the Hydrogen molecule\n",
    "# Qubits is the number of Quantum bits needed to simulate the molecule\n",
    "hamiltonian, qubits = qml.qchem.molecular_hamiltonian(\n",
    "    moleculeSymbols, moleculeCoordinates\n",
    ")"
   ]
  },
  {
   "cell_type": "markdown",
   "metadata": {},
   "source": [
    "### Defining the Quantum Device"
   ]
  },
  {
   "cell_type": "code",
   "execution_count": 4,
   "metadata": {},
   "outputs": [],
   "source": [
    "# Similar to choosing a machine learning model\n",
    "# Here, the selection of a specific quantum model occurs\n",
    "qdev = qml.device(\"default.qubit\", wires=qubits)"
   ]
  },
  {
   "cell_type": "markdown",
   "metadata": {},
   "source": [
    "### Variational Quantum EigenSolver"
   ]
  },
  {
   "cell_type": "markdown",
   "metadata": {},
   "source": [
    "#### A quantum algorithm used to find the ground state energy of a quantum system. It combines quantum and classical computations to optimize a parameterized quantum circuit."
   ]
  },
  {
   "cell_type": "markdown",
   "metadata": {},
   "source": [
    "### Variational Quantum Circuit"
   ]
  },
  {
   "cell_type": "markdown",
   "metadata": {},
   "source": [
    "### Ansatz - The quantum ansatz is a parameterized quantum circuit that generates a range of quantum states by adjusting its parameters."
   ]
  },
  {
   "cell_type": "code",
   "execution_count": 5,
   "metadata": {},
   "outputs": [],
   "source": [
    "def ansatz(params, wires):\n",
    "    # Initializes the quantum circuit to the |0> state for all qubits\n",
    "    qml.BasisState(np.array([0] * qubits), wires=wires)\n",
    "    for i in range(qubits):\n",
    "        # Gives rotation to all the qubit around y-axis \n",
    "        qml.RY(params[i], wires=wires[i]) \n",
    "    for i in range(qubits - 1):\n",
    "        # In Basis State the CNOT works specially |x>|0> -> |x>|0>\n",
    "        # Normaly it is |x>|y> -> |x>|x⊕y>\n",
    "        qml.CNOT(wires=[wires[i], wires[i + 1]]) # Consecutive qubits are entangled"
   ]
  },
  {
   "cell_type": "markdown",
   "metadata": {},
   "source": [
    "### Defining the Cost Function"
   ]
  },
  {
   "cell_type": "code",
   "execution_count": 6,
   "metadata": {},
   "outputs": [],
   "source": [
    "# Decorator that converts the function into a QNode\n",
    "# Enabling it to execute on the quantum device\n",
    "@qml.qnode(qdev)\n",
    "def cost_fn(params):\n",
    "    ansatz(params, wires=range(qubits)) \n",
    "    #Returns the expected value of the Hamiltonian expression, which represents the molecule's ground state energy.\n",
    "    return qml.expval(hamiltonian) "
   ]
  },
  {
   "cell_type": "markdown",
   "metadata": {},
   "source": [
    "### Setting Initial Parameters and Optimizer"
   ]
  },
  {
   "cell_type": "code",
   "execution_count": 7,
   "metadata": {},
   "outputs": [],
   "source": [
    "np.random.seed(42) #Fixed seed for the random number generator\n",
    "# `requires_grad = True` allows parameters to be adjusted during optimization\n",
    "params = qml.numpy.random.random(qubits, requires_grad=True)\n",
    "# Adjust the parameters to minimize the cost function\n",
    "optimizer = qml.GradientDescentOptimizer(stepsize=0.4)"
   ]
  },
  {
   "cell_type": "markdown",
   "metadata": {},
   "source": [
    "### Optimization Loop"
   ]
  },
  {
   "cell_type": "code",
   "execution_count": 8,
   "metadata": {},
   "outputs": [
    {
     "name": "stdout",
     "output_type": "stream",
     "text": [
      "Step = 0, Energy = 1.40040436 Ha\n",
      "Step = 1, Energy = 1.39377357 Ha\n",
      "Step = 2, Energy = 1.38602898 Ha\n",
      "Step = 3, Energy = 1.37688214 Ha\n",
      "Step = 4, Energy = 1.36595377 Ha\n",
      "Step = 5, Energy = 1.35274042 Ha\n",
      "Step = 6, Energy = 1.33657169 Ha\n",
      "Step = 7, Energy = 1.31655916 Ha\n",
      "Step = 8, Energy = 1.29154373 Ha\n",
      "Step = 9, Energy = 1.26006129 Ha\n",
      "Step = 10, Energy = 1.22037054 Ha\n",
      "Step = 11, Energy = 1.17062226 Ha\n",
      "Step = 12, Energy = 1.10927724 Ha\n",
      "Step = 13, Energy = 1.03584026 Ha\n",
      "Step = 14, Energy = 0.95177135 Ha\n",
      "Step = 15, Energy = 0.86105933 Ha\n",
      "Step = 16, Energy = 0.76974278 Ha\n",
      "Step = 17, Energy = 0.68420726 Ha\n",
      "Step = 18, Energy = 0.60918981 Ha\n",
      "Step = 19, Energy = 0.54677922 Ha\n",
      "Step = 20, Energy = 0.49675027 Ha\n",
      "Step = 21, Energy = 0.45755201 Ha\n",
      "Step = 22, Energy = 0.42720211 Ha\n",
      "Step = 23, Energy = 0.40380829 Ha\n",
      "Step = 24, Energy = 0.38577584 Ha\n",
      "Step = 25, Energy = 0.37184079 Ha\n",
      "Step = 26, Energy = 0.36103130 Ha\n",
      "Step = 27, Energy = 0.35261019 Ha\n",
      "Step = 28, Energy = 0.34602081 Ha\n",
      "Step = 29, Energy = 0.34084253 Ha\n",
      "Step = 30, Energy = 0.33675648 Ha\n",
      "Step = 31, Energy = 0.33351981 Ha\n",
      "Step = 32, Energy = 0.33094662 Ha\n",
      "Step = 33, Energy = 0.32889385 Ha\n",
      "Step = 34, Energy = 0.32725089 Ha\n",
      "Step = 35, Energy = 0.32593178 Ha\n",
      "Step = 36, Energy = 0.32486945 Ha\n",
      "Step = 37, Energy = 0.32401137 Ha\n",
      "Step = 38, Energy = 0.32331621 Ha\n",
      "Step = 39, Energy = 0.32275138 Ha\n",
      "Step = 40, Energy = 0.32229106 Ha\n",
      "Step = 41, Energy = 0.32191480 Ha\n",
      "Step = 42, Energy = 0.32160628 Ha\n",
      "Step = 43, Energy = 0.32135251 Ha\n",
      "Step = 44, Energy = 0.32114309 Ha\n",
      "Step = 45, Energy = 0.32096969 Ha\n",
      "Step = 46, Energy = 0.32082561 Ha\n",
      "Step = 47, Energy = 0.32070548 Ha\n",
      "Step = 48, Energy = 0.32060493 Ha\n",
      "Step = 49, Energy = 0.32052047 Ha\n",
      "Step = 50, Energy = 0.32044923 Ha\n",
      "Step = 51, Energy = 0.32038892 Ha\n",
      "Step = 52, Energy = 0.32033764 Ha\n",
      "Step = 53, Energy = 0.32029388 Ha\n",
      "Step = 54, Energy = 0.32025637 Ha\n",
      "Step = 55, Energy = 0.32022410 Ha\n",
      "Step = 56, Energy = 0.32019622 Ha\n",
      "Step = 57, Energy = 0.32017203 Ha\n",
      "Step = 58, Energy = 0.32015096 Ha\n",
      "Step = 59, Energy = 0.32013255 Ha\n",
      "Step = 60, Energy = 0.32011639 Ha\n",
      "Step = 61, Energy = 0.32010217 Ha\n",
      "Step = 62, Energy = 0.32008960 Ha\n",
      "Step = 63, Energy = 0.32007846 Ha\n",
      "Step = 64, Energy = 0.32006855 Ha\n",
      "Step = 65, Energy = 0.32005972 Ha\n",
      "Step = 66, Energy = 0.32005182 Ha\n",
      "Step = 67, Energy = 0.32004474 Ha\n",
      "Step = 68, Energy = 0.32003838 Ha\n",
      "Step = 69, Energy = 0.32003265 Ha\n",
      "Step = 70, Energy = 0.32002748 Ha\n",
      "Step = 71, Energy = 0.32002281 Ha\n",
      "Step = 72, Energy = 0.32001858 Ha\n",
      "Step = 73, Energy = 0.32001474 Ha\n",
      "Step = 74, Energy = 0.32001126 Ha\n",
      "Step = 75, Energy = 0.32000809 Ha\n",
      "Step = 76, Energy = 0.32000521 Ha\n",
      "Step = 77, Energy = 0.32000258 Ha\n",
      "Step = 78, Energy = 0.32000018 Ha\n",
      "Step = 79, Energy = 0.31999799 Ha\n",
      "Step = 80, Energy = 0.31999599 Ha\n",
      "Step = 81, Energy = 0.31999417 Ha\n",
      "Step = 82, Energy = 0.31999249 Ha\n",
      "Step = 83, Energy = 0.31999096 Ha\n",
      "Step = 84, Energy = 0.31998956 Ha\n",
      "Step = 85, Energy = 0.31998828 Ha\n",
      "Step = 86, Energy = 0.31998710 Ha\n",
      "Step = 87, Energy = 0.31998602 Ha\n",
      "Final ground state energy = 0.31998503 Ha\n"
     ]
    }
   ],
   "source": [
    "# Number of optimization steps\n",
    "maxIterations = 100  # Maximum number of iterations for the optimization loop\n",
    "convergenceTolerance = 1e-06       # Convergence tolerance to determine when to stop the optimization\n",
    "\n",
    "# List to store the energy values at each optimization step\n",
    "energies = []\n",
    "\n",
    "# Optimization loop\n",
    "for n in range(maxIterations):\n",
    "    # Perform an optimization step and get updated parameters and the previous energy value\n",
    "    params, prev_energy = optimizer.step_and_cost(cost_fn, params)\n",
    "\n",
    "    # Compute the current energy value using the updated parameters\n",
    "    energy = cost_fn(params)\n",
    "    energies.append(energy)  # Store the energy value for analysis\n",
    "\n",
    "    # Check for convergence based on the change in energy\n",
    "    if np.abs(energy - prev_energy) < convergenceTolerance:\n",
    "        break  # Exit the loop if the change in energy is below the tolerance\n",
    "\n",
    "    # Print the current step number and energy value\n",
    "    print(f\"Step = {n}, Energy = {energy:.8f} Ha\")\n",
    "\n",
    "# Print the final ground state energy after optimization\n",
    "print(f\"Final ground state energy = {energy:.8f} Ha\")\n"
   ]
  },
  {
   "cell_type": "markdown",
   "metadata": {},
   "source": [
    "### Visualize the results"
   ]
  },
  {
   "cell_type": "code",
   "execution_count": 9,
   "metadata": {},
   "outputs": [
    {
     "data": {
      "image/png": "[encoded data removed]",
      "text/plain": [
       "<Figure size 640x480 with 1 Axes>"
      ]
     },
     "metadata": {},
     "output_type": "display_data"
    }
   ],
   "source": [
    "iterations = range(len(energies))\n",
    "\n",
    "plt.plot(iterations, energies)\n",
    "plt.xlabel('Iterations')\n",
    "plt.ylabel('Energy (Ha)')\n",
    "plt.title('Convergence using VQE for H2 Molecule')\n",
    "plt.show()"
   ]
  },
  {
   "cell_type": "markdown",
   "metadata": {},
   "source": [
    "### Summary"
   ]
  },
  {
   "cell_type": "markdown",
   "metadata": {},
   "source": [
    "#### The notebook demonstrates the application of the Variational Quantum Eigensolver (VQE) algorithm to find the ground state energy of the H2 molecule. Initially, necessary libraries such as numpy, matplotlib, qiskit, and components from qiskit.chemistry are imported. The H2 molecule's geometry is defined, and the molecular data is converted into a Hamiltonian, representing the system's energy. A parameterized quantum circuit is constructed to represent the trial wavefunction, and the VQE algorithm is employed to optimize the parameters of the quantum circuit using classical optimizers like COBYLA or SPSA. The optimization process is executed, and energy values are extracted. Finally, the convergence of energy values over iterations is plotted, illustrating how the VQE algorithm approaches the ground state energy.\n",
    "\n"
   ]
  },
  {
   "cell_type": "markdown",
   "metadata": {},
   "source": [
    "### Future Work"
   ]
  },
  {
   "cell_type": "markdown",
   "metadata": {},
   "source": [
    "#### Future work includes exploring and benchmarking various classical optimizers to improve VQE efficiency and accuracy, and extending the approach to complex molecules to test scalability. Implementing error mitigation strategies is essential for addressing quantum hardware noise and errors. Combining VQE with other algorithms like QAOA could provide more robust solutions. Parallel execution of quantum circuits and optimizations can reduce computation time, while testing on different quantum processors will provide performance insights. Integrating machine learning for predicting better initial parameters may also speed up convergence."
   ]
  }
 ],
 "metadata": {
  "kernelspec": {
   "display_name": "Python 3",
   "language": "python",
   "name": "python3"
  },
  "language_info": {
   "codemirror_mode": {
    "name": "ipython",
    "version": 3
   },
   "file_extension": ".py",
   "mimetype": "text/x-python",
   "name": "python",
   "nbconvert_exporter": "python",
   "pygments_lexer": "ipython3",
   "version": "3.12.4"
  }
 },
 "nbformat": 4,
 "nbformat_minor": 2
}
